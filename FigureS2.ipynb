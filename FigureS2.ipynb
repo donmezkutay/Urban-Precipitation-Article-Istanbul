{
 "cells": [
  {
   "cell_type": "markdown",
   "id": "daed33ce-29a2-421a-8bb5-20d9adca6e24",
   "metadata": {},
   "source": [
    "## 0. Import Libraries"
   ]
  },
  {
   "cell_type": "code",
   "execution_count": 2,
   "id": "afa98570-9718-424a-b6d4-620b7f99d2e3",
   "metadata": {},
   "outputs": [],
   "source": [
    "from datetime import datetime, timedelta\n",
    "from glob import glob\n",
    "\n",
    "import numpy as np\n",
    "import pandas as pd\n",
    "import pyproj\n",
    "import rioxarray\n",
    "import matplotlib\n",
    "import salem\n",
    "import xarray as xr\n",
    "from shapely.geometry import mapping\n",
    "import geopandas as gpd\n",
    "\n",
    "import cartopy\n",
    "import matplotlib.pyplot as plt\n",
    "import matplotlib.patheffects as path_effects\n",
    "import proplot\n",
    "from matplotlib.colors import BoundaryNorm, ListedColormap\n",
    "from cartopy.feature import ShapelyFeature\n",
    "from cartopy.io.shapereader import Reader\n",
    "from dea_tools.spatial import xr_vectorize, xr_rasterize\n",
    "from wrf import getvar, interpline, CoordPair, xy_to_ll, ll_to_xy \n",
    "\n",
    "import warnings\n",
    "warnings.filterwarnings('ignore')"
   ]
  },
  {
   "cell_type": "markdown",
   "id": "dbca5eef-2cba-419f-84b1-cc720cdd9a42",
   "metadata": {},
   "source": [
    "## 1. Open Data"
   ]
  },
  {
   "cell_type": "code",
   "execution_count": 3,
   "id": "18e28279-d783-4700-9404-960a36df65c3",
   "metadata": {},
   "outputs": [],
   "source": [
    "variable = 'LST_Day_1km'\n",
    "x_dim = 'XDim:MODIS_Grid_Daily_1km_LST'\n",
    "y_dim = 'YDim:MODIS_Grid_Daily_1km_LST'"
   ]
  },
  {
   "cell_type": "markdown",
   "id": "84dba0a3-f938-4cf0-bd0d-e12cbc67b233",
   "metadata": {},
   "source": [
    "### 1.1 Modis Terra"
   ]
  },
  {
   "cell_type": "code",
   "execution_count": 4,
   "id": "9d21e2e9-b36f-4504-891d-c261b0d6448a",
   "metadata": {},
   "outputs": [],
   "source": [
    "modis_terra = xr.open_dataset(r'data/modis/Combined_Modis_terra_2010_2018').sel(date='2017')\n",
    "modis_terra = modis_terra.rio.write_crs(modis_terra.attrs['Proj4String'])"
   ]
  },
  {
   "cell_type": "code",
   "execution_count": 5,
   "id": "55beea29-6899-4283-9f65-d73728dbe7a2",
   "metadata": {},
   "outputs": [],
   "source": [
    "# set coords\n",
    "# terra\n",
    "modis_terra['XDim:MODIS_Grid_Daily_1km_LST'] = modis_terra[x_dim].values\n",
    "modis_terra['YDim:MODIS_Grid_Daily_1km_LST'] = modis_terra[y_dim].values"
   ]
  },
  {
   "cell_type": "markdown",
   "id": "b3a53b3b-9b47-4ae7-be7d-06d7d7002b49",
   "metadata": {},
   "source": [
    "### 1.2 Modis Aqua"
   ]
  },
  {
   "cell_type": "code",
   "execution_count": 6,
   "id": "dba3042d-6e95-498c-9164-85585efadaa2",
   "metadata": {},
   "outputs": [],
   "source": [
    "modis_aqua = xr.open_dataset(r'data/modis/Combined_Modis_aqua_2010_2018').sel(date='2017')\n",
    "modis_aqua = modis_aqua.rio.write_crs(modis_aqua.attrs['Proj4String'])"
   ]
  },
  {
   "cell_type": "code",
   "execution_count": 7,
   "id": "28d745d9-5a4c-42a7-9233-1b8b27e471aa",
   "metadata": {},
   "outputs": [],
   "source": [
    "# set coords\n",
    "# aqua\n",
    "modis_aqua['XDim:MODIS_Grid_Daily_1km_LST'] = modis_aqua[x_dim].values\n",
    "modis_aqua['YDim:MODIS_Grid_Daily_1km_LST'] = modis_aqua[y_dim].values"
   ]
  },
  {
   "cell_type": "markdown",
   "id": "8e1d66d5-1c92-43ac-a1bc-18cdbb7c6297",
   "metadata": {},
   "source": [
    "### 1.3 Shapefile"
   ]
  },
  {
   "cell_type": "code",
   "execution_count": 8,
   "id": "e330f463-2728-4f00-ac34-8196a704f8d5",
   "metadata": {},
   "outputs": [],
   "source": [
    "ist_shape = gpd.read_file(r'data/shapefiles/istanbul_without_districts.shp')"
   ]
  },
  {
   "cell_type": "markdown",
   "id": "90207de7-f31b-4a4c-8d8a-ba820020216c",
   "metadata": {},
   "source": [
    "## 2. Calculate Long-Term Statistics"
   ]
  },
  {
   "cell_type": "markdown",
   "id": "57a45ed6-1ae4-4c24-82a2-8e3fc3b221a5",
   "metadata": {},
   "source": [
    "### 2.1 Seasonal Mean"
   ]
  },
  {
   "cell_type": "code",
   "execution_count": 9,
   "id": "d63a27b3-04ae-48d7-9a94-2ffc95c997ef",
   "metadata": {},
   "outputs": [],
   "source": [
    "# modis terra\n",
    "modis_terra_season = modis_terra[variable].groupby('date.season').mean()\n",
    "\n",
    "# modis aqua\n",
    "modis_aqua_season = modis_aqua[variable].groupby('date.season').mean()"
   ]
  },
  {
   "cell_type": "markdown",
   "id": "65644198-f00d-474e-977b-e7808777aae1",
   "metadata": {},
   "source": [
    "### 2.2 Monthly Mean"
   ]
  },
  {
   "cell_type": "code",
   "execution_count": 10,
   "id": "fa8953c8-886e-485b-95dd-e7f6e8f9add7",
   "metadata": {},
   "outputs": [],
   "source": [
    "# modis terra\n",
    "modis_terra_month = modis_terra[variable].groupby('date.month').mean()\n",
    "\n",
    "# modis aqua\n",
    "modis_aqua_month = modis_aqua[variable].groupby('date.month').mean()"
   ]
  },
  {
   "cell_type": "code",
   "execution_count": 11,
   "id": "ac51773b-a43d-4db9-820f-09e0d816d1a0",
   "metadata": {},
   "outputs": [
    {
     "data": {
      "text/plain": [
       "CRS.from_epsg(3395)"
      ]
     },
     "execution_count": 11,
     "metadata": {},
     "output_type": "execute_result"
    }
   ],
   "source": [
    "modis_aqua.rio.crs"
   ]
  },
  {
   "cell_type": "markdown",
   "id": "c5e5f756-f30f-48fb-a8e7-8fb6241cdd01",
   "metadata": {},
   "source": [
    "## 3. Visualization"
   ]
  },
  {
   "cell_type": "markdown",
   "id": "b429db2b-71bd-42f5-a1e9-41e5702df7f5",
   "metadata": {},
   "source": [
    "### 3.1 Options"
   ]
  },
  {
   "cell_type": "code",
   "execution_count": 12,
   "id": "544fe432-1a6c-4728-ab4f-db230ee9b243",
   "metadata": {},
   "outputs": [],
   "source": [
    "# Parameters to change (plot) -------------------\n",
    "cmap = proplot.Colormap('Spectral_r')\n",
    "\n",
    "# fig features\n",
    "fig_array = [[1,2],\n",
    "             [3,4]\n",
    "            ]\n",
    "graphic_no = 4\n",
    "\n",
    "clevs_total = np.arange(20, 46, 1)\n",
    "norm = BoundaryNorm(clevs_total,\n",
    "                    ncolors=cmap.N, \n",
    "                    clip=True)\n",
    "ticks = np.arange(20, 46, 5)"
   ]
  },
  {
   "cell_type": "markdown",
   "id": "1e55d3bd-bea5-4cc1-9fad-58cc64bd338b",
   "metadata": {},
   "source": [
    "### 3.2 Plot"
   ]
  },
  {
   "cell_type": "code",
   "execution_count": null,
   "id": "0e79c18c-419e-4d1a-8da7-1e76060618da",
   "metadata": {},
   "outputs": [],
   "source": [
    "# Create Figure -------------------------\n",
    "fig, axs = proplot.subplots(fig_array, \n",
    "                             includepanels=True,\n",
    "                              hspace=0.76,\n",
    "                              wspace=0.76,\n",
    "                              sharey=3)\n",
    "\n",
    "# format whole figure\n",
    "proplot.rc['tick.labelsize'] = 20\n",
    "axs.format(abcloc='ul',\n",
    "          abc_kw={'size':22},\n",
    "           abc=True,\n",
    "          xlabel='',\n",
    "          ylabel='')\n",
    "\n",
    "axs.format(collabels=['Terra', 'Aqua'],\n",
    "            rowlabels=['Summer', 'July'],\n",
    "            leftlabels_kw = {'size':22},\n",
    "            toplabels_kw = {'size':22}\n",
    "           \n",
    "                   )\n",
    "\n",
    "# terra season\n",
    "mesh = axs[0].pcolormesh(modis_terra_season[1][x_dim], \n",
    "                        modis_terra_season[1][y_dim],#[::-1],\n",
    "                        modis_terra_season[1], \n",
    "                        cmap = cmap,\n",
    "                        linewidth = 0.8,\n",
    "                        norm=norm,\n",
    "                        zorder = 0.2,\n",
    "                        alpha=1)\n",
    "\n",
    "# aqua season\n",
    "mesh = axs[1].pcolormesh(modis_aqua_season[1][x_dim], \n",
    "                        modis_aqua_season[1][y_dim],#[::-1],\n",
    "                        modis_aqua_season[1], \n",
    "                        cmap = cmap,\n",
    "                        linewidth = 0.8,\n",
    "                        norm=norm,\n",
    "                        zorder = 0.2,\n",
    "                        alpha=1)\n",
    "\n",
    "# terra month\n",
    "mesh = axs[2].pcolormesh(modis_terra_month[6][x_dim], \n",
    "                        modis_terra_month[6][y_dim],#[::-1],\n",
    "                        modis_terra_month[6], \n",
    "                        cmap = cmap,\n",
    "                        linewidth = 0.8,\n",
    "                        norm=norm,\n",
    "                        zorder = 0.2,\n",
    "                        alpha=1)\n",
    "\n",
    "# aqua month\n",
    "mesh = axs[3].pcolormesh(modis_aqua_month[6][x_dim], \n",
    "                        modis_aqua_month[6][y_dim],#[::-1],\n",
    "                        modis_aqua_month[6], \n",
    "                        cmap = cmap,\n",
    "                        linewidth = 0.8,\n",
    "                        norm=norm,\n",
    "                        zorder = 0.2,\n",
    "                        alpha=1)\n",
    "\n",
    "for i in range(4):\n",
    "    axs[i].format(yreverse = True)\n",
    "    axs[i].set_xticks([])\n",
    "    axs[i].set_yticks([])    \n",
    "    \n",
    "# colorbars\n",
    "axs[1].colorbar(mesh,\n",
    "                 label='°C',\n",
    "                 ticks = ticks,\n",
    "                 loc='ur', length=12,  # length is em widths\n",
    "                 tickminor=True, alpha=0.5,\n",
    "                 width=1,\n",
    "                 labelsize = 14,\n",
    "                 ticklabelsize = 14,\n",
    "                 frame=False,\n",
    "                )\n",
    "\n",
    "#save figure\n",
    "plt.savefig(r'pictures/FigureS2.jpeg',\n",
    "            bbox_inches='tight', optimize=True,\n",
    "            progressive=True, dpi=1000)"
   ]
  },
  {
   "cell_type": "code",
   "execution_count": null,
   "id": "ac95b340-43cf-4601-84c8-3893a646fd04",
   "metadata": {},
   "outputs": [],
   "source": []
  }
 ],
 "metadata": {
  "kernelspec": {
   "display_name": "Python 3 (ipykernel)",
   "language": "python",
   "name": "python3"
  },
  "language_info": {
   "codemirror_mode": {
    "name": "ipython",
    "version": 3
   },
   "file_extension": ".py",
   "mimetype": "text/x-python",
   "name": "python",
   "nbconvert_exporter": "python",
   "pygments_lexer": "ipython3",
   "version": "3.9.7"
  }
 },
 "nbformat": 4,
 "nbformat_minor": 5
}
