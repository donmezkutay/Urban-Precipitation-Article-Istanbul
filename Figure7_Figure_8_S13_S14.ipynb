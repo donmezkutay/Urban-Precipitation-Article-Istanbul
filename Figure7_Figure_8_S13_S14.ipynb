{
 "cells": [
  {
   "cell_type": "markdown",
   "id": "8441b91d-f09a-4f6d-8c1f-41e8b30b35eb",
   "metadata": {},
   "source": [
    "## 0. Import Libraries"
   ]
  },
  {
   "cell_type": "code",
   "execution_count": 2,
   "id": "797dd0e2-02ef-42b7-97a7-67161865983b",
   "metadata": {},
   "outputs": [],
   "source": [
    "from datetime import datetime, timedelta\n",
    "from glob import glob\n",
    "\n",
    "import numpy as np\n",
    "import pandas as pd\n",
    "import pyproj\n",
    "import rioxarray\n",
    "import matplotlib\n",
    "import salem\n",
    "import xarray as xr\n",
    "from shapely.geometry import mapping\n",
    "\n",
    "import cartopy\n",
    "import matplotlib.pyplot as plt\n",
    "import matplotlib.patheffects as path_effects\n",
    "import proplot\n",
    "from matplotlib.colors import BoundaryNorm, ListedColormap\n",
    "from cartopy.feature import ShapelyFeature\n",
    "from cartopy.io.shapereader import Reader\n",
    "from dea_tools.spatial import xr_vectorize, xr_rasterize\n",
    "from wrf import getvar, interpline, CoordPair, xy_to_ll, ll_to_xy \n",
    "\n",
    "import warnings\n",
    "warnings.filterwarnings('ignore')"
   ]
  },
  {
   "cell_type": "code",
   "execution_count": 3,
   "id": "8aa83c5f-59b5-44eb-9c99-69ebb37fd093",
   "metadata": {},
   "outputs": [],
   "source": [
    "def merge_cs_members(data_path):\n",
    "    \n",
    "    # open data\n",
    "    dts = []\n",
    "    for i in data_path:\n",
    "        dt_ = xr.open_dataset(i)[variable].isel(cross_line_idx=slice(0, 78))\n",
    "        dts.append(dt_)\n",
    "    \n",
    "    return xr.concat(dts, dim='cs_member')"
   ]
  },
  {
   "cell_type": "code",
   "execution_count": 4,
   "id": "ca2e42bc-5978-4710-ba6f-4687393e979d",
   "metadata": {},
   "outputs": [],
   "source": [
    "def average_cs_members(microphysics):\n",
    "    \n",
    "    dt_var = {}\n",
    "\n",
    "    for u in ['_urban', '_nourban']:\n",
    "\n",
    "        # data path\n",
    "        data_path = glob(fr'{general_path}/*{run_data}**{microphysics}**{u}**{variable}**{cs_type}*')\n",
    "\n",
    "        dts = merge_cs_members(data_path).mean(dim='cs_member').squeeze()\n",
    "        dt_var[u[1:]] = dts\n",
    "        \n",
    "    return dt_var"
   ]
  },
  {
   "cell_type": "markdown",
   "id": "5faad629-c67e-4cd1-9ecf-fd0224ab59ad",
   "metadata": {},
   "source": [
    "## 1. Open Data"
   ]
  },
  {
   "cell_type": "markdown",
   "id": "5d3dc815-758a-4673-801f-a12086d35e00",
   "metadata": {},
   "source": [
    "### 1.1 ERA5"
   ]
  },
  {
   "cell_type": "markdown",
   "id": "7a63c5d1-d511-49f4-afc5-7a6010457375",
   "metadata": {},
   "source": [
    "#### 1.1.1 European Side"
   ]
  },
  {
   "cell_type": "markdown",
   "id": "7daa8c32-6eff-4668-bfda-9563763332d9",
   "metadata": {},
   "source": [
    "##### 1.1.1.1 wa"
   ]
  },
  {
   "cell_type": "code",
   "execution_count": 5,
   "id": "71418248-f8c7-43b0-ab09-b0b00602f970",
   "metadata": {},
   "outputs": [],
   "source": [
    "run_data = 'era5'\n",
    "variable = 'wa'\n",
    "general_path = 'data'\n",
    "\n",
    "# ensemble members\n",
    "micro_options = [\n",
    "    'LIN',\n",
    "    'THOMPSON',\n",
    "    'WSM6'\n",
    "]\n",
    "\n",
    "luse_options = [\n",
    "    'urban',\n",
    "    'nourban'\n",
    "]\n",
    "cs_type = 'eu'"
   ]
  },
  {
   "cell_type": "code",
   "execution_count": 6,
   "id": "4720bd69-67f4-4c88-93cd-096f72b31a8a",
   "metadata": {},
   "outputs": [],
   "source": [
    "dt_wa_era5_urban_ens_eu = xr.concat([average_cs_members('LIN')['urban'],\n",
    "                              average_cs_members('THOMPSON')['urban'],\n",
    "                              average_cs_members('WSM6')['urban']], \n",
    "                              dim='ens').mean(dim='ens')\n",
    "\n",
    "dt_wa_era5_nourban_ens_eu = xr.concat([average_cs_members('LIN')['nourban'],\n",
    "                              average_cs_members('THOMPSON')['nourban'],\n",
    "                              average_cs_members('WSM6')['nourban']], \n",
    "                              dim='ens').mean(dim='ens')"
   ]
  },
  {
   "cell_type": "markdown",
   "id": "1d7bc9d2-9320-49ef-bed6-1010fde43056",
   "metadata": {},
   "source": [
    "#### 1.1.2 Anatolian Side"
   ]
  },
  {
   "cell_type": "markdown",
   "id": "41ae6cd3-5cd6-40db-889c-0d8f35eec276",
   "metadata": {},
   "source": [
    "##### 1.1.2.1 wa"
   ]
  },
  {
   "cell_type": "code",
   "execution_count": 7,
   "id": "20633a94-d199-40eb-982f-a0bc697d907e",
   "metadata": {},
   "outputs": [],
   "source": [
    "run_data = 'era5'\n",
    "variable = 'wa'\n",
    "general_path = 'data'\n",
    "\n",
    "# ensemble members\n",
    "micro_options = [\n",
    "    'LIN',\n",
    "    'THOMPSON',\n",
    "    'WSM6'\n",
    "]\n",
    "\n",
    "luse_options = [\n",
    "    'urban',\n",
    "    'nourban'\n",
    "]\n",
    "cs_type = 'an'"
   ]
  },
  {
   "cell_type": "code",
   "execution_count": 8,
   "id": "d936a9f9-ae49-427f-94b9-aec815c106bd",
   "metadata": {},
   "outputs": [],
   "source": [
    "dt_wa_era5_urban_ens_an = xr.concat([average_cs_members('LIN')['urban'],\n",
    "                              average_cs_members('THOMPSON')['urban'],\n",
    "                              average_cs_members('WSM6')['urban']], \n",
    "                              dim='ens').mean(dim='ens')\n",
    "\n",
    "dt_wa_era5_nourban_ens_an = xr.concat([average_cs_members('LIN')['nourban'],\n",
    "                              average_cs_members('THOMPSON')['nourban'],\n",
    "                              average_cs_members('WSM6')['nourban']], \n",
    "                              dim='ens').mean(dim='ens')"
   ]
  },
  {
   "cell_type": "markdown",
   "id": "2b560d0f-6481-4c49-abf3-656593572be9",
   "metadata": {},
   "source": [
    "### 1.2 GFS"
   ]
  },
  {
   "cell_type": "markdown",
   "id": "a38ec1c7-599a-4223-886d-1582c9e9bde4",
   "metadata": {},
   "source": [
    "#### 1.2.1 European Side"
   ]
  },
  {
   "cell_type": "markdown",
   "id": "e3cc7304-40f8-4f89-b18e-b3f2f6cd1751",
   "metadata": {},
   "source": [
    "##### 1.2.1.1 wa"
   ]
  },
  {
   "cell_type": "code",
   "execution_count": 9,
   "id": "13d5caf9-8fd1-4460-95ec-a06c8a1e6fb9",
   "metadata": {},
   "outputs": [],
   "source": [
    "run_data = 'gfs'\n",
    "variable = 'wa'\n",
    "general_path = 'data'\n",
    "\n",
    "# ensemble members\n",
    "micro_options = [\n",
    "    'LIN',\n",
    "    'THOMPSON',\n",
    "    'WSM6'\n",
    "]\n",
    "\n",
    "luse_options = [\n",
    "    'urban',\n",
    "    'nourban'\n",
    "]\n",
    "cs_type = 'eu'"
   ]
  },
  {
   "cell_type": "code",
   "execution_count": 10,
   "id": "c4fae5c8-c427-445d-8e12-c736fb74d0b8",
   "metadata": {},
   "outputs": [],
   "source": [
    "dt_wa_gfs_urban_ens_eu = xr.concat([average_cs_members('LIN')['urban'],\n",
    "                              average_cs_members('THOMPSON')['urban'],\n",
    "                              average_cs_members('WSM6')['urban']], \n",
    "                              dim='ens').mean(dim='ens')\n",
    "\n",
    "dt_wa_gfs_nourban_ens_eu = xr.concat([average_cs_members('LIN')['nourban'],\n",
    "                              average_cs_members('THOMPSON')['nourban'],\n",
    "                              average_cs_members('WSM6')['nourban']], \n",
    "                              dim='ens').mean(dim='ens')"
   ]
  },
  {
   "cell_type": "markdown",
   "id": "b3d3d941-c7c8-4161-b35c-314578f66d97",
   "metadata": {},
   "source": [
    "#### 1.2.2 Anatolian Side"
   ]
  },
  {
   "cell_type": "markdown",
   "id": "dee8b578-b621-45a3-8b14-17f99a66dc5f",
   "metadata": {},
   "source": [
    "##### 1.2.2.1 wa"
   ]
  },
  {
   "cell_type": "code",
   "execution_count": 11,
   "id": "3d8821a2-c188-493e-99c2-6ed6c81dbe6b",
   "metadata": {},
   "outputs": [],
   "source": [
    "run_data = 'gfs'\n",
    "variable = 'wa'\n",
    "general_path = 'data'\n",
    "\n",
    "# ensemble members\n",
    "micro_options = [\n",
    "    'LIN',\n",
    "    'THOMPSON',\n",
    "    'WSM6'\n",
    "]\n",
    "\n",
    "luse_options = [\n",
    "    'urban',\n",
    "    'nourban'\n",
    "]\n",
    "cs_type = 'an'"
   ]
  },
  {
   "cell_type": "code",
   "execution_count": 12,
   "id": "87dd8f2c-9d41-4915-9531-44fc7c52a190",
   "metadata": {},
   "outputs": [],
   "source": [
    "dt_wa_gfs_urban_ens_an = xr.concat([average_cs_members('LIN')['urban'],\n",
    "                              average_cs_members('THOMPSON')['urban'],\n",
    "                              average_cs_members('WSM6')['urban']], \n",
    "                              dim='ens').mean(dim='ens')\n",
    "\n",
    "dt_wa_gfs_nourban_ens_an = xr.concat([average_cs_members('LIN')['nourban'],\n",
    "                              average_cs_members('THOMPSON')['nourban'],\n",
    "                              average_cs_members('WSM6')['nourban']], \n",
    "                              dim='ens').mean(dim='ens')"
   ]
  },
  {
   "cell_type": "markdown",
   "id": "2db1f9fb-c094-488f-a46c-024307ee076c",
   "metadata": {},
   "source": [
    "## 3. Visualization"
   ]
  },
  {
   "cell_type": "markdown",
   "id": "71058e85-24f5-4018-b99c-f01fb4e948b5",
   "metadata": {},
   "source": [
    "### 3.1 Options"
   ]
  },
  {
   "cell_type": "code",
   "execution_count": 20,
   "id": "0bb8fb62-cff3-4b38-b9df-7b4f8a3f3e09",
   "metadata": {},
   "outputs": [],
   "source": [
    "def plot_hourly_cs(dt_urban, dt_nourban,\n",
    "                   d_type, cs_type,\n",
    "                   fig_array, graphic_no,\n",
    "                   cmap, norm, var, ticks):\n",
    "    \n",
    "    # Create Figure -------------------------\n",
    "    fig, axs = proplot.subplots(fig_array, \n",
    "\n",
    "                                includepanels=True,\n",
    "                                hspace=1.76,\n",
    "                                wspace=1.76,\n",
    "                                sharey=3)\n",
    "\n",
    "    # format whole figure\n",
    "    proplot.rc['tick.labelsize'] = 20\n",
    "    axs.format(abcloc='ul',\n",
    "               abc_kw={'size':27},\n",
    "               abc=True,)\n",
    "    \n",
    "    if d_type == 'era5':\n",
    "        axs.format(\n",
    "                    #collabels=['h1', 'h2', 'h3', 'h4', 'h5', 'h6'],\n",
    "                   rowlabels=['$URBAN_{ERA5}$', '$NOURBAN_{ERA5}$'],\n",
    "                    leftlabels_kw = {'size':22}\n",
    "                   )\n",
    "    \n",
    "    elif d_type == 'gfs':\n",
    "        axs.format(\n",
    "                    #collabels=['h1', 'h2', 'h3', 'h4', 'h5', 'h6'],\n",
    "                   rowlabels=['$URBAN_{FNL}$', '$NOURBAN_{FNL}$'],\n",
    "                    leftlabels_kw = {'size':22}\n",
    "                   )\n",
    "\n",
    "    axs.format(ylim=(1000, 200), yscale='log',\n",
    "               ylabel='Pressure (hPa)', ylocator=200,\n",
    "               xlabel=f'{cs_type.upper()}', xticklabelsize=18,\n",
    "               yticklabelsize=18, labelsize=22, \n",
    "               xlim=(0,70))\n",
    "\n",
    "    x_fill = [20, 30, 40, 50]\n",
    "    y_fill = [800, 800, 800, 800]\n",
    "\n",
    "    for t in range(graphic_no):\n",
    "\n",
    "        if t < graphic_no/2:\n",
    "            dt_ens = dt_urban\n",
    "\n",
    "            i = t\n",
    "        else:\n",
    "            dt_ens = dt_nourban\n",
    "\n",
    "            i = t-int(graphic_no/2)\n",
    "\n",
    "\n",
    "        cut = -0.1\n",
    "        mesh = axs[t].contourf(dt_ens[i]['cross_line_idx'], \n",
    "                        dt_ens[i]['vertical'],#[::-1],\n",
    "                        dt_ens[i], \n",
    "                        cmap = cmap,\n",
    "                        cmap_kw={'cut': cut},\n",
    "                        linewidth = 0.8,\n",
    "                        norm=norm,\n",
    "                        zorder = 0.2,\n",
    "                        alpha=1)\n",
    "\n",
    "        axs[t].format(xlim=(0,75), xformatter=['A', '', '', 'B'])\n",
    "    # colorbar\n",
    "    cbar = fig.colorbar(mesh,\n",
    "                    label='m/s',\n",
    "                    ticks = ticks,\n",
    "                    loc = 'b',\n",
    "                    shrink = 0.3,\n",
    "                    width = 0.15,\n",
    "                    labelsize = 20,\n",
    "                     ticklabelsize = 20,\n",
    "                    #col=2\n",
    "                   )\n",
    "\n",
    "    #save figure\n",
    "    plt.savefig(fr'pictures/{d_type}_cs_{cs_type}_{var}_hourly.jpeg',\n",
    "                bbox_inches='tight', optimize=True,\n",
    "                progressive=True, dpi=1000)"
   ]
  },
  {
   "cell_type": "code",
   "execution_count": 21,
   "id": "ed30aa12-ab29-49e5-a788-5f76e6f79c89",
   "metadata": {},
   "outputs": [],
   "source": [
    "bottom_hgt_list = []\n",
    "dt_tempor = dt_wa_era5_urban_ens_eu[0]\n",
    "for i in range(len(dt_tempor['cross_line_idx'])):\n",
    "    \n",
    "    bottom_hgt_list.append(float(dt_tempor.sel(cross_line_idx=i).dropna(dim='vertical')[0]['vertical'].values))"
   ]
  },
  {
   "cell_type": "code",
   "execution_count": 22,
   "id": "f669c6e0-01ae-43d2-beb4-e2a31f5dc291",
   "metadata": {},
   "outputs": [],
   "source": [
    "# Parameters to change (plot) -------------------\n",
    "cmap = proplot.Colormap('Balance')\n",
    "\n",
    "# fig features\n",
    "fig_array = [[1,2,3,4,5,6],\n",
    "             [7,8,9,10,11,12]\n",
    "            ]\n",
    "graphic_no = 12\n",
    "\n",
    "# graphic vmin, vmax and norms\n",
    "\n",
    "clevs_total = np.arange(-6, 6.1, 1)\n",
    "norm = BoundaryNorm(clevs_total,\n",
    "                    ncolors=cmap.N, \n",
    "                    clip=True)\n",
    "ticks = np.arange(-6, 6.1, 3)"
   ]
  },
  {
   "cell_type": "markdown",
   "id": "807eff49-6650-4b50-ad8d-12209e2cfc3c",
   "metadata": {},
   "source": [
    "### 3.2 European Side"
   ]
  },
  {
   "cell_type": "markdown",
   "id": "0efeab16-9143-4e57-8f45-768e2ac72897",
   "metadata": {},
   "source": [
    "#### 3.2.1 ERA5 - Figure7"
   ]
  },
  {
   "cell_type": "code",
   "execution_count": null,
   "id": "e604eabc-5b99-4502-b78a-e3f621124e30",
   "metadata": {},
   "outputs": [],
   "source": [
    "d_type = 'era5'\n",
    "cs_type = 'eu'\n",
    "var = 'wa'\n",
    "\n",
    "plot_hourly_cs(dt_wa_era5_urban_ens_eu, dt_wa_era5_nourban_ens_eu,\n",
    "               d_type, cs_type, fig_array, graphic_no, cmap, norm, var, ticks)"
   ]
  },
  {
   "cell_type": "markdown",
   "id": "151c59d1-a06f-4b53-b91f-b550e68808cb",
   "metadata": {},
   "source": [
    "#### 3.2.2 GFS - FigureS14"
   ]
  },
  {
   "cell_type": "code",
   "execution_count": null,
   "id": "31a65aa1-08d4-40eb-8651-05b3a3f02f8a",
   "metadata": {},
   "outputs": [],
   "source": [
    "d_type = 'gfs'\n",
    "cs_type = 'eu'\n",
    "var = 'wa'\n",
    "\n",
    "plot_hourly_cs(dt_wa_gfs_urban_ens_eu, dt_wa_gfs_nourban_ens_eu,\n",
    "               d_type, cs_type, fig_array, graphic_no, cmap, norm, var, ticks)"
   ]
  },
  {
   "cell_type": "markdown",
   "id": "16ecb6b7-ad2f-43df-970f-78fd6c769b99",
   "metadata": {},
   "source": [
    "### 3.3 Anatolian Side"
   ]
  },
  {
   "cell_type": "markdown",
   "id": "f8a9f720-94cb-4d5e-ac77-c151ce456ff7",
   "metadata": {},
   "source": [
    "#### 3.3.1 ERA5 - FigureS13"
   ]
  },
  {
   "cell_type": "code",
   "execution_count": null,
   "id": "a8bd60a2-6537-46f4-83d5-fd92c16cd499",
   "metadata": {},
   "outputs": [],
   "source": [
    "d_type = 'era5'\n",
    "cs_type = 'an'\n",
    "var = 'wa'\n",
    "\n",
    "plot_hourly_cs(dt_wa_era5_urban_ens_an, dt_wa_era5_nourban_ens_an,\n",
    "               d_type, cs_type, fig_array, graphic_no, cmap, norm, var, ticks)"
   ]
  },
  {
   "cell_type": "markdown",
   "id": "43ea1cfd-9cc0-4bda-9dc6-7c885c2f6fa9",
   "metadata": {},
   "source": [
    "#### 3.3.2 GFS - Figure8"
   ]
  },
  {
   "cell_type": "code",
   "execution_count": null,
   "id": "feb44731-bca0-44f8-a209-467d260336e6",
   "metadata": {},
   "outputs": [],
   "source": [
    "d_type = 'gfs'\n",
    "cs_type = 'an'\n",
    "var = 'wa'\n",
    "\n",
    "plot_hourly_cs(dt_wa_gfs_urban_ens_an, dt_wa_gfs_nourban_ens_an,\n",
    "               d_type, cs_type, fig_array, graphic_no, cmap, norm, var, ticks)"
   ]
  },
  {
   "cell_type": "code",
   "execution_count": null,
   "id": "38cfe13c-ea07-4f1a-8b71-f0cfae08b4c5",
   "metadata": {},
   "outputs": [],
   "source": []
  }
 ],
 "metadata": {
  "kernelspec": {
   "display_name": "Python 3 (ipykernel)",
   "language": "python",
   "name": "python3"
  },
  "language_info": {
   "codemirror_mode": {
    "name": "ipython",
    "version": 3
   },
   "file_extension": ".py",
   "mimetype": "text/x-python",
   "name": "python",
   "nbconvert_exporter": "python",
   "pygments_lexer": "ipython3",
   "version": "3.9.7"
  }
 },
 "nbformat": 4,
 "nbformat_minor": 5
}
