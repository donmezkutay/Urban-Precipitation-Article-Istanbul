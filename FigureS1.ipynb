{
 "cells": [
  {
   "cell_type": "markdown",
   "id": "140f6c16-2d5c-414c-a62b-357d4b79920c",
   "metadata": {},
   "source": [
    "## 0. Import Libraries"
   ]
  },
  {
   "cell_type": "code",
   "execution_count": 2,
   "id": "365a0feb-64c0-4a92-b469-deebcdb3acb2",
   "metadata": {},
   "outputs": [
    {
     "name": "stdout",
     "output_type": "stream",
     "text": [
      "The autoreload extension is already loaded. To reload it, use:\n",
      "  %reload_ext autoreload\n"
     ]
    }
   ],
   "source": [
    "from datetime import datetime, timedelta\n",
    "from glob import glob\n",
    "\n",
    "import numpy as np\n",
    "import pandas as pd\n",
    "import pyproj\n",
    "import rioxarray\n",
    "import salem\n",
    "import xarray as xr\n",
    "from matplotlib.lines import Line2D\n",
    "import matplotlib\n",
    "from shapely.geometry import mapping\n",
    "\n",
    "import cartopy\n",
    "import cartopy.io.shapereader as shpreader \n",
    "import matplotlib.pyplot as plt\n",
    "from matplotlib.patches import Patch\n",
    "import matplotlib.patheffects as path_effects\n",
    "import proplot\n",
    "from matplotlib.colors import BoundaryNorm, ListedColormap\n",
    "from cartopy.feature import ShapelyFeature\n",
    "from dea_tools.spatial import xr_vectorize, xr_rasterize\n",
    "from wrf import getvar, interpline, CoordPair, xy_to_ll, ll_to_xy \n",
    "from cartopy.io.shapereader import Reader\n",
    "\n",
    "import warnings\n",
    "warnings.filterwarnings('ignore')\n",
    "\n",
    "%load_ext autoreload\n",
    "%autoreload 2\n",
    "%reload_ext autoreload"
   ]
  },
  {
   "cell_type": "markdown",
   "id": "fb7e6311-51f4-45ac-98dd-c393ff780beb",
   "metadata": {},
   "source": [
    "## 1. Open DMSP-Light Data"
   ]
  },
  {
   "cell_type": "code",
   "execution_count": 3,
   "id": "a572be80-5392-4808-98f2-31cd60e1a529",
   "metadata": {},
   "outputs": [],
   "source": [
    "dmsp_2000 = rioxarray.open_rasterio(r'data/dmsp/dmsp_2000_clip_istanbul.tif').squeeze()\n",
    "dmsp_2013 = rioxarray.open_rasterio(r'data/dmsp/dmsp_2013_clip_istanbul.tif').squeeze()"
   ]
  },
  {
   "cell_type": "markdown",
   "id": "e767b01c-e31b-4218-8a11-f55e6c64ca57",
   "metadata": {},
   "source": [
    "## 2. Open Corine Data"
   ]
  },
  {
   "cell_type": "code",
   "execution_count": 4,
   "id": "f6ed075e-bb5d-4f95-ae73-b548828272d7",
   "metadata": {},
   "outputs": [],
   "source": [
    "def assign_nodata(dt):\n",
    "    \n",
    "    # nodata to np.nan\n",
    "    dt = xr.where(dt==0, np.nan, dt)\n",
    "\n",
    "    # write nodata\n",
    "    dt = dt.rio.write_nodata(np.nan)\n",
    "    return dt"
   ]
  },
  {
   "cell_type": "code",
   "execution_count": 5,
   "id": "f6910371-3e59-445c-be02-312fd268ba1c",
   "metadata": {},
   "outputs": [],
   "source": [
    "def define_index_correspondence():\n",
    "    indexes = {\n",
    "        'urban' : np.arange(1, 12), # 1 to 11 included\n",
    "        'agriculture' : np.arange(12, 23), # 12 to 22 included\n",
    "        'forest' : np.arange(23, 35), # 23 to 34 included\n",
    "        'wetlands' : np.arange(35, 40), # 35 to 39 included\n",
    "        'water' : np.arange(40, 46), # 40 to 45 included\n",
    "        'all': np.arange(1, 46), # all grids\n",
    "        'all_but_water': np.arange(1, 40) # all but not water\n",
    "    }\n",
    "    \n",
    "    return indexes\n",
    "\n",
    "# define land-use index correspondence of name\n",
    "indexes = define_index_correspondence()\n",
    "\n",
    "index = 'urban'"
   ]
  },
  {
   "cell_type": "code",
   "execution_count": 6,
   "id": "af3011f7-c789-48e4-ae77-80787409b387",
   "metadata": {},
   "outputs": [],
   "source": [
    "corine_2000 = rioxarray.open_rasterio(r'data/corine/corine_2000_clipped_istanbul.tif').squeeze()\n",
    "corine_2018 = rioxarray.open_rasterio(r'data/corine/corine_2018_clipped_istanbul.tif').squeeze()"
   ]
  },
  {
   "cell_type": "code",
   "execution_count": 7,
   "id": "574bf19f-15e1-4cfe-a581-73cdf78b8cde",
   "metadata": {},
   "outputs": [],
   "source": [
    "# reproject\n",
    "corine_2000 = corine_2000.rio.reproject(4326)\n",
    "corine_2018 = corine_2018.rio.reproject(4326)"
   ]
  },
  {
   "cell_type": "code",
   "execution_count": 8,
   "id": "83d2dcfa-edd8-42e3-b999-6329c227150c",
   "metadata": {},
   "outputs": [],
   "source": [
    "corine_2000 = corine_2000.where(corine_2000.isin(indexes[index]), -1)\n",
    "corine_2000 = corine_2000.where(corine_2000==-1, 0)\n",
    "\n",
    "# nodata to np.nan\n",
    "corine_2000 = xr.where(corine_2000==-1, np.nan, corine_2000)\n",
    "corine_2000 = corine_2000.rio.write_nodata(np.nan)"
   ]
  },
  {
   "cell_type": "code",
   "execution_count": 9,
   "id": "9795b701-6a2c-4a6e-a2f7-8954d5f4a59d",
   "metadata": {},
   "outputs": [],
   "source": [
    "corine_2018 = corine_2018.where(corine_2018.isin(indexes[index]), -1)\n",
    "corine_2018 = corine_2018.where(corine_2018==-1, 0)\n",
    "\n",
    "# nodata to np.nan\n",
    "corine_2018 = xr.where(corine_2018==-1, np.nan, corine_2018)\n",
    "corine_2018 = corine_2018.rio.write_nodata(np.nan)"
   ]
  },
  {
   "cell_type": "markdown",
   "id": "fe9cd0ba-6a55-4d27-b23c-ab60c7f209fc",
   "metadata": {},
   "source": [
    "## 3. Visualization"
   ]
  },
  {
   "cell_type": "code",
   "execution_count": 10,
   "id": "cb2ca189-9ad6-43d0-afa9-a571dbd72a7f",
   "metadata": {},
   "outputs": [],
   "source": [
    "# Parameters to change (plot) -------------------\n",
    "# projection\n",
    "lcc = cartopy.crs.Mercator()\n",
    "\n",
    "# fig features\n",
    "fig_array = [[1, 2],\n",
    "             [3, 4]\n",
    "            ]\n",
    "graphic_no = 4"
   ]
  },
  {
   "cell_type": "code",
   "execution_count": null,
   "id": "4bb680df-5d84-46d8-b5de-3feb8d8d724e",
   "metadata": {},
   "outputs": [],
   "source": [
    "# Create Figure -------------------------\n",
    "fig, axs = proplot.subplots(fig_array, \n",
    "                            aspect=10,\n",
    "                            axwidth=5,\n",
    "                            proj=[lcc, lcc, lcc, lcc],\n",
    "                            hratios=tuple(np.ones(len(fig_array), dtype=int)),\n",
    "                            includepanels=True,\n",
    "                            hspace=0.56,\n",
    "                            wspace=0.56,\n",
    "                            sharey=0)\n",
    "\n",
    "# format whole figure\n",
    "proplot.rc['abc.size'] = 20\n",
    "axs.format(abcloc='ul',\n",
    "           #abcbbox = True,\n",
    "           abc=True,\n",
    "           abc_kw={'size':20},\n",
    "           zorder=50)\n",
    "\n",
    "# istanbul limits\n",
    "for i in range(4):\n",
    "    axs[i].format(lonlim=(27.69171143+0.10, 30.04271274),\n",
    "           latlim=(40.08444595+0.60, 41.88309609-0.20),\n",
    "               longrid=False, \n",
    "               latgrid = False)\n",
    "    \n",
    "# shapefile\n",
    "# add shapefiles to figure\n",
    "    \n",
    "# add shapefiles\n",
    "turkey_district_shape = r'data/shapefiles/istanbul_without_districts.shp'\n",
    "shape_district_turkey = ShapelyFeature(Reader(turkey_district_shape).geometries(),\n",
    "                                             cartopy.crs.PlateCarree(), facecolor='none',\n",
    "                                             edgecolor = 'black', linewidth = 1.2, zorder = 50)\n",
    "\n",
    "turkey_province_shape = r'data/shapefiles/Iller_HGK_6360_Kanun_Sonrasi.shp'\n",
    "shape_province_turkey = ShapelyFeature(Reader(turkey_province_shape).geometries(),\n",
    "                                             cartopy.crs.PlateCarree(), facecolor='none',\n",
    "                                             edgecolor = 'black', linewidth = 0.4, zorder = 50)\n",
    "\n",
    "\n",
    "for i in range(graphic_no):\n",
    "    axs[i].add_feature(shape_district_turkey)\n",
    "    axs[i].add_feature(shape_province_turkey) \n",
    "            \n",
    "# dmsp data\n",
    "# cmap\n",
    "cmap_dmsp = proplot.Colormap('Solar')\n",
    "\n",
    "axs[0].pcolormesh(dmsp_2000['x'].values, dmsp_2000['y'].values,\n",
    "                  assign_nodata(dmsp_2000), cmap=cmap_dmsp, \n",
    "                  transform=cartopy.crs.PlateCarree(),\n",
    "                  zorder=40,)\n",
    "\n",
    "axs[1].pcolormesh(dmsp_2013['x'].values, dmsp_2013['y'].values,\n",
    "                  assign_nodata(dmsp_2013), cmap=cmap_dmsp, \n",
    "                  transform=cartopy.crs.PlateCarree(),\n",
    "                  zorder=40,)\n",
    "\n",
    "# corine data\n",
    "# cmap\n",
    "cmap_corine = 'Reds'\n",
    "\n",
    "axs[2].pcolormesh(corine_2000['x'].values,\n",
    "                  corine_2000['y'].values,\n",
    "                  corine_2000, cmap=cmap_corine,\n",
    "                  transform=cartopy.crs.PlateCarree(),\n",
    "                  zorder=40,)\n",
    "\n",
    "axs[3].pcolormesh(corine_2018['x'].values,\n",
    "                  corine_2018['y'].values,\n",
    "                  corine_2018, cmap=cmap_corine,\n",
    "                  transform=cartopy.crs.PlateCarree(),\n",
    "                  zorder=40,)\n",
    "\n",
    "#save figure\n",
    "plt.savefig(r'pictures/FigureS1.jpeg',\n",
    "            bbox_inches='tight', optimize=True,\n",
    "            progressive=True, dpi=1000)"
   ]
  },
  {
   "cell_type": "code",
   "execution_count": null,
   "id": "eb777f09-6d5b-4e4c-aba6-9444fa13c1bf",
   "metadata": {},
   "outputs": [],
   "source": []
  }
 ],
 "metadata": {
  "kernelspec": {
   "display_name": "Python 3 (ipykernel)",
   "language": "python",
   "name": "python3"
  },
  "language_info": {
   "codemirror_mode": {
    "name": "ipython",
    "version": 3
   },
   "file_extension": ".py",
   "mimetype": "text/x-python",
   "name": "python",
   "nbconvert_exporter": "python",
   "pygments_lexer": "ipython3",
   "version": "3.9.7"
  }
 },
 "nbformat": 4,
 "nbformat_minor": 5
}
